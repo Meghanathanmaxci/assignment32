{
 "cells": [
  {
   "cell_type": "code",
   "execution_count": 1,
   "id": "c7ff3b0d",
   "metadata": {},
   "outputs": [
    {
     "name": "stdout",
     "output_type": "stream",
     "text": [
      "Enter the sentence : 1234abcd\n",
      "dcba4321\n"
     ]
    }
   ],
   "source": [
    "string = input('Enter the sentence : ')\n",
    "words = string.split()\n",
    "rev_string = []\n",
    "for i in words:\n",
    "    rev_string.append(i[::-1])\n",
    "    out = ' '.join(rev_string)\n",
    "print(out)\n"
   ]
  },
  {
   "cell_type": "code",
   "execution_count": null,
   "id": "69ee7aad",
   "metadata": {},
   "outputs": [],
   "source": []
  }
 ],
 "metadata": {
  "kernelspec": {
   "display_name": "Python 3 (ipykernel)",
   "language": "python",
   "name": "python3"
  },
  "language_info": {
   "codemirror_mode": {
    "name": "ipython",
    "version": 3
   },
   "file_extension": ".py",
   "mimetype": "text/x-python",
   "name": "python",
   "nbconvert_exporter": "python",
   "pygments_lexer": "ipython3",
   "version": "3.9.7"
  }
 },
 "nbformat": 4,
 "nbformat_minor": 5
}
